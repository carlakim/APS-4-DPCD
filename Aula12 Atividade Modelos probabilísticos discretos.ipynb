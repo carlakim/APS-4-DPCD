{
 "cells": [
  {
   "cell_type": "markdown",
   "metadata": {},
   "source": [
    " ___\n",
    "# Atividade: Modelos probabilísticos discretos\n",
    "___\n",
    "\n",
    "## Aula 12\n",
    "\n",
    "**Referência de Leitura:**\n",
    "1. Magalhães e Lima (7ª. Edição): Seções 3.2 e 3.3\n",
    "\n",
    "**Hoje:**\n",
    "1.\tDescrever modelos discretos quanto aos resultados teóricos.\n",
    "2.\tExplicar a utilização de modelos probabilísticos no contexto da literatura estatística.\n",
    "3.\tContrastar resultados teóricos e empíricos.\n",
    "4.\tFechamento do conteúdo.\n",
    "\n",
    "**Próxima aula:**\n",
    "1. Leitura prévia necessária: Magalhães e Lima (7ª. Edição): Capítulo 6 - Seção 6.1.\n",
    "\n",
    "___"
   ]
  },
  {
   "cell_type": "code",
   "execution_count": 1,
   "metadata": {
    "collapsed": true
   },
   "outputs": [],
   "source": [
    "%matplotlib inline\n",
    "import pandas as pd\n",
    "import matplotlib.pyplot as plt\n",
    "\n",
    "from scipy import stats #importa apenas as funções de estatísticas da biblioteca SciPy.\n",
    "import itertools #importante para gerar todos os resultados possíveis!!\n"
   ]
  },
  {
   "cell_type": "markdown",
   "metadata": {},
   "source": [
    "___\n",
    "## <font color='blue'>Exercício 1</font>\n",
    "\n",
    "### <font color='red'>**Publicar no github até dia 10/04 INDIVIDUAL **</font>\n",
    "\n",
    "\n",
    "#### Este exercício irá explorar  construção de árvore de probabilidades com eventos e construção da distribuição de probabilidades de uma variável aleatória discreta. Ainda, irá explorar o modelo de distribuição probabilística Binomial\n",
    "\n",
    "Um resistor de 100K Ohms comprado na Santa Efigênia tem probabilidade de falha de 5%, segundo um fabricante ruim.\n",
    "\n",
    "Ainda, por suposição, admita que os resistores falhem de forma independente entre si.\n",
    "\n",
    "Um aluno de engenharia compra um pacote contendo $n$ resistores.\n",
    "\n",
    "1. Assuma $n=3$ e faça os itens a seguir.\n",
    "  1. Monte o espaço amostral que combine todos os resultados possíveis de Falha e não Falha desses $n$ resistores. Ainda, calcule a probabilidade de cada resultado do espaço amostral acontecer.\n",
    "  2. Se $Y$ representa o número de resistores que falham em um pacotinho com $n$ resistores, então construa a distribuição de probabilidades de $Y$.\n",
    "  3. Calcule a média e o desvio padrão de $Y$. Interprete os resultados.\n",
    "  4. Utilizando o modelo probabilístico da distribuição Binomial, encontre a distribuição de probabilidades de cada possível valor de $Y$. Calcule também $E(Y)$ e $Var(Y)$. Compare com as distribuições de probabilidades obtidas nos itens anteriores e discuta porque esses valores são iguais ou diferentes!\n",
    "   \n",
    "2. Assuma $n=7$ e repita os itens A) a D) anteriores. No caso de $n=7$ ou maiores quantidades de resistores em um pacotinho, qual a viabilidade de construir a distribuição de probabilidades do número de resistores com defeitos quando $n$ não é pequeno seguindo os itens de A) a C)?\n",
    " \n",
    "3. Com $n=100$, por exemplo, é extremamente inviável a construção de árvore de probabilidades até mesmo utilizando a poderosa ferramenta Python. \n",
    "  1. No caso assuma $n=100$ e repita o item 1.D) anterior. \n",
    "  2. Ainda, calcule a probabilidade de, em um pacote com 100 resistores, pelo menos a metade deles apresentarem falha?\n",
    "\n",
    "\n",
    "A seguir, um resumo sobre o modelo teórico Binomial!    \n",
    "> \n",
    "\n",
    "> **DISTRIBUIÇÃO BINOMIAL - TEORIA:**\n",
    "\n",
    "> É responsável por modelar uma variável $Y$ definida pelo Número de sucessos em $n$ tentativas, cuja probabilidade de sucesso é dada por $p$. Assim, dizemos que $Y$~$Bin(n,p)$ e lê-se: $Y$ segue uma distribuição binomial com $n$ tentativas e $p$ como probabilidade de sucesso. \n",
    "\n",
    "> A função de probabilidade nesse caso é dada por:\n",
    "$P(Y=y)=\\left(\n",
    "\\begin{array}{c}\n",
    "    n \\\\\n",
    "    y\n",
    "\\end{array}\\right) p^y (1-p)^{(n-y)}$\n",
    "\n",
    "> Para um experimento ter as probabilidade dos números de sucessos modeladas por uma distribuição Binomial, o mesmo precisa ter as seguintes propriedades:\n",
    "* é uma contagem de $n$ repetições (ou tentativas ou ensaios) idênticas;\n",
    "* cada repetição tem apenas 2 resultados possíveis: um é denominado sucesso e o outro, fracasso;\n",
    "* a probabilidade de sucesso para cada ensaio é denominada $p$ e será constante em cada repetição. Então, a probabilidade de fracasso $(1-p)$ também não varia de tentativa para tentativa;\n",
    "* As tentativas são independentes.\n",
    "\n",
    "\n",
    "> **DISTRIBUIÇÃO BINOMIAL - PYTHON:** <sup> [https://en.wikipedia.org/wiki/SciPy]\n",
    "\n",
    "> Algumas funções úteis para desenvolver seu código: <sup> [http://docs.scipy.org/doc/scipy-0.16.1/reference/generated/scipy.stats.binom.html]\n",
    "* $P(Y=y)$: `stats.binom.pmf(y, n, p)`\n",
    "* $P(Y\\leq y)$: `stats.binom.cdf(y, n, p)`\n",
    "* $E(Y)$ e $Var(Y)$: `stats.binom.stats(n, p, moments='mv')`\n",
    "\n"
   ]
  },
  {
   "cell_type": "markdown",
   "metadata": {},
   "source": [
    "1)A)"
   ]
  },
  {
   "cell_type": "code",
   "execution_count": 9,
   "metadata": {
    "collapsed": true
   },
   "outputs": [],
   "source": [
    "#criando o espaço amostral por meio da AUla 12-gereando espaços amostrais\n",
    "possibilidades = ['S','F']\n",
    "\n",
    "#atribuindo as probabilidades para cada caso\n",
    "prob = {'S':0.95, 'F':0.05}\n",
    "\n",
    "#numero de eventos\n",
    "n=3\n",
    "\n",
    "arranjo = itertools.product(possibilidades, repeat=n)\n",
    "espacoamostral = list(arranjo)\n",
    "\n",
    "#espacoamostral"
   ]
  },
  {
   "cell_type": "code",
   "execution_count": 10,
   "metadata": {},
   "outputs": [
    {
     "name": "stdout",
     "output_type": "stream",
     "text": [
      "Probabilidade de  ('S', 'S', 'S')  eh igual a  0.85737\n",
      "Probabilidade de  ('S', 'S', 'F')  eh igual a  0.04512\n",
      "Probabilidade de  ('S', 'F', 'S')  eh igual a  0.04512\n",
      "Probabilidade de  ('S', 'F', 'F')  eh igual a  0.00238\n",
      "Probabilidade de  ('F', 'S', 'S')  eh igual a  0.04512\n",
      "Probabilidade de  ('F', 'S', 'F')  eh igual a  0.00238\n",
      "Probabilidade de  ('F', 'F', 'S')  eh igual a  0.00238\n",
      "Probabilidade de  ('F', 'F', 'F')  eh igual a  0.00013\n"
     ]
    }
   ],
   "source": [
    "#probabilidade de cada espaco amostral acontecer\n",
    "#probabilidade de cada linha do diagrama de arvore\n",
    "prob_linhas = []\n",
    "\n",
    "for res in espacoamostral:\n",
    "    p = 1\n",
    "    for i in res:\n",
    "        p*=prob[i]\n",
    "    prob_linhas.append(p)\n",
    "    print(\"Probabilidade de \",res,\" eh igual a \", \"%3.5f\"%p)"
   ]
  },
  {
   "cell_type": "markdown",
   "metadata": {},
   "source": [
    "B)"
   ]
  },
  {
   "cell_type": "code",
   "execution_count": 11,
   "metadata": {},
   "outputs": [
    {
     "name": "stdout",
     "output_type": "stream",
     "text": [
      "Distribuição de probabilidades da variável aleatória $X$ - falhas\n",
      "\n",
      "Falha:  0  Probabilidade 0.85737 \n",
      "Falha:  1  Probabilidade 0.13537 \n",
      "Falha:  2  Probabilidade 0.00713 \n",
      "Falha:  3  Probabilidade 0.00013 \n"
     ]
    }
   ],
   "source": [
    "#Y eh o numero de resistores que falham num pacotinho com n resistores\n",
    "\n",
    "valores_Y = {}\n",
    "\n",
    "for i in range(len(espacoamostral)):\n",
    "    y = espacoamostral[i].count('F')\n",
    "    \n",
    "    if y in valores_Y:\n",
    "        valores_Y[y] += prob_linhas[i]\n",
    "    else:\n",
    "        valores_Y[y] = prob_linhas[i]\n",
    "    \n",
    "print(\"Distribuição de probabilidades da variável aleatória $X$ - falhas\")\n",
    "print('')\n",
    "for y in valores_Y:\n",
    "    print(\"Falha: \", y, \" Probabilidade\", \"%6.5f \"%valores_Y[y])"
   ]
  },
  {
   "cell_type": "markdown",
   "metadata": {},
   "source": [
    "C)"
   ]
  },
  {
   "cell_type": "code",
   "execution_count": 12,
   "metadata": {},
   "outputs": [
    {
     "name": "stdout",
     "output_type": "stream",
     "text": [
      "A media de Y  eh: 0.15002\n",
      "O Desvio Padrao de Y  eh: 0.37756323920636126\n"
     ]
    }
   ],
   "source": [
    "#media de Y eh Esperanca\n",
    "\n",
    "MediaY = (0*0.85737)+(1*0.13537)+(2*0.00713)+(3*0.00013 )\n",
    "\n",
    "print('A media de Y  eh: {0}'.format(MediaY))\n",
    "\n",
    "#desvio padrao de Y\n",
    "\n",
    "VarY = 0.85737*((0-0.15002)**(2)) + 0.13537 *((1-0.15002)**(2)) + 0.00713 *((2-0.15002)**(2)) + 0.00013 *((3-0.15002)**(2))\n",
    "\n",
    "DPY = VarY**(1/2)\n",
    "\n",
    "print('O Desvio Padrao de Y  eh: {0}'.format(DPY))"
   ]
  },
  {
   "cell_type": "markdown",
   "metadata": {},
   "source": [
    "D)"
   ]
  },
  {
   "cell_type": "code",
   "execution_count": 13,
   "metadata": {
    "collapsed": true
   },
   "outputs": [],
   "source": [
    "#numero de amostras\n",
    "n=3\n",
    "# #prob de falha\n",
    "p=0.05\n",
    "# #y eh o numero de resistores que falham \n",
    "y= range(0,4)\n",
    "\n",
    "# PYy = stats.binom.pmf(y, n, p)\n",
    "# PYy\n",
    "\n",
    "#jeito mais manual de se fazer:"
   ]
  },
  {
   "cell_type": "code",
   "execution_count": 14,
   "metadata": {},
   "outputs": [
    {
     "name": "stdout",
     "output_type": "stream",
     "text": [
      "A probabilidade é:\n",
      "0.857375\n",
      "A probabilidade é:\n",
      "0.135375\n",
      "A probabilidade é:\n",
      "0.007125\n",
      "A probabilidade é:\n",
      "0.000125\n"
     ]
    }
   ],
   "source": [
    "#prob de 0, 1, 2 ou 3 falharem, nesta ordem de cima para baixo\n",
    "for i in range(4):\n",
    "    print('A probabilidade é:')\n",
    "    print(stats.binom.pmf(i, n, p))"
   ]
  },
  {
   "cell_type": "code",
   "execution_count": 18,
   "metadata": {
    "collapsed": true
   },
   "outputs": [],
   "source": [
    "# #no maximo, no minimo (1-P(Y<=y))\n",
    "# #P(Y≤y): \n",
    "# for i in range(4):\n",
    "#      print(stats.binom.cdf(y, n, p))    "
   ]
  },
  {
   "cell_type": "code",
   "execution_count": 19,
   "metadata": {},
   "outputs": [
    {
     "name": "stdout",
     "output_type": "stream",
     "text": [
      "(array(0.15000000000000002), array(0.14250000000000002))\n"
     ]
    }
   ],
   "source": [
    "#E(Y)E(Y)  e  Var(Y)Var(Y):\n",
    "print(stats.binom.stats(n, p, moments='mv'))"
   ]
  },
  {
   "cell_type": "markdown",
   "metadata": {},
   "source": [
    "2)A)"
   ]
  },
  {
   "cell_type": "code",
   "execution_count": 20,
   "metadata": {
    "collapsed": true,
    "scrolled": true
   },
   "outputs": [],
   "source": [
    "#criando o espaço amostral por meio da AUla 12-gereando espaços amostrais\n",
    "possibilidades = ['S','F']\n",
    "\n",
    "#atribuindo as probabilidades para cada caso\n",
    "prob = {'S':0.95, 'F':0.05}\n",
    "\n",
    "#numero de eventos\n",
    "n=7\n",
    "\n",
    "arranjo = itertools.product(possibilidades, repeat=n)\n",
    "espacoamostral = list(arranjo)\n",
    "\n",
    "#espacoamostral"
   ]
  },
  {
   "cell_type": "code",
   "execution_count": 21,
   "metadata": {},
   "outputs": [
    {
     "name": "stdout",
     "output_type": "stream",
     "text": [
      "Probabilidade de  ('S', 'S', 'S', 'S', 'S', 'S', 'S')  eh igual a  0.69834\n",
      "Probabilidade de  ('S', 'S', 'S', 'S', 'S', 'S', 'F')  eh igual a  0.03675\n",
      "Probabilidade de  ('S', 'S', 'S', 'S', 'S', 'F', 'S')  eh igual a  0.03675\n",
      "Probabilidade de  ('S', 'S', 'S', 'S', 'S', 'F', 'F')  eh igual a  0.00193\n",
      "Probabilidade de  ('S', 'S', 'S', 'S', 'F', 'S', 'S')  eh igual a  0.03675\n",
      "Probabilidade de  ('S', 'S', 'S', 'S', 'F', 'S', 'F')  eh igual a  0.00193\n",
      "Probabilidade de  ('S', 'S', 'S', 'S', 'F', 'F', 'S')  eh igual a  0.00193\n",
      "Probabilidade de  ('S', 'S', 'S', 'S', 'F', 'F', 'F')  eh igual a  0.00010\n",
      "Probabilidade de  ('S', 'S', 'S', 'F', 'S', 'S', 'S')  eh igual a  0.03675\n",
      "Probabilidade de  ('S', 'S', 'S', 'F', 'S', 'S', 'F')  eh igual a  0.00193\n",
      "Probabilidade de  ('S', 'S', 'S', 'F', 'S', 'F', 'S')  eh igual a  0.00193\n",
      "Probabilidade de  ('S', 'S', 'S', 'F', 'S', 'F', 'F')  eh igual a  0.00010\n",
      "Probabilidade de  ('S', 'S', 'S', 'F', 'F', 'S', 'S')  eh igual a  0.00193\n",
      "Probabilidade de  ('S', 'S', 'S', 'F', 'F', 'S', 'F')  eh igual a  0.00010\n",
      "Probabilidade de  ('S', 'S', 'S', 'F', 'F', 'F', 'S')  eh igual a  0.00010\n",
      "Probabilidade de  ('S', 'S', 'S', 'F', 'F', 'F', 'F')  eh igual a  0.00001\n",
      "Probabilidade de  ('S', 'S', 'F', 'S', 'S', 'S', 'S')  eh igual a  0.03675\n",
      "Probabilidade de  ('S', 'S', 'F', 'S', 'S', 'S', 'F')  eh igual a  0.00193\n",
      "Probabilidade de  ('S', 'S', 'F', 'S', 'S', 'F', 'S')  eh igual a  0.00193\n",
      "Probabilidade de  ('S', 'S', 'F', 'S', 'S', 'F', 'F')  eh igual a  0.00010\n",
      "Probabilidade de  ('S', 'S', 'F', 'S', 'F', 'S', 'S')  eh igual a  0.00193\n",
      "Probabilidade de  ('S', 'S', 'F', 'S', 'F', 'S', 'F')  eh igual a  0.00010\n",
      "Probabilidade de  ('S', 'S', 'F', 'S', 'F', 'F', 'S')  eh igual a  0.00010\n",
      "Probabilidade de  ('S', 'S', 'F', 'S', 'F', 'F', 'F')  eh igual a  0.00001\n",
      "Probabilidade de  ('S', 'S', 'F', 'F', 'S', 'S', 'S')  eh igual a  0.00193\n",
      "Probabilidade de  ('S', 'S', 'F', 'F', 'S', 'S', 'F')  eh igual a  0.00010\n",
      "Probabilidade de  ('S', 'S', 'F', 'F', 'S', 'F', 'S')  eh igual a  0.00010\n",
      "Probabilidade de  ('S', 'S', 'F', 'F', 'S', 'F', 'F')  eh igual a  0.00001\n",
      "Probabilidade de  ('S', 'S', 'F', 'F', 'F', 'S', 'S')  eh igual a  0.00010\n",
      "Probabilidade de  ('S', 'S', 'F', 'F', 'F', 'S', 'F')  eh igual a  0.00001\n",
      "Probabilidade de  ('S', 'S', 'F', 'F', 'F', 'F', 'S')  eh igual a  0.00001\n",
      "Probabilidade de  ('S', 'S', 'F', 'F', 'F', 'F', 'F')  eh igual a  0.00000\n",
      "Probabilidade de  ('S', 'F', 'S', 'S', 'S', 'S', 'S')  eh igual a  0.03675\n",
      "Probabilidade de  ('S', 'F', 'S', 'S', 'S', 'S', 'F')  eh igual a  0.00193\n",
      "Probabilidade de  ('S', 'F', 'S', 'S', 'S', 'F', 'S')  eh igual a  0.00193\n",
      "Probabilidade de  ('S', 'F', 'S', 'S', 'S', 'F', 'F')  eh igual a  0.00010\n",
      "Probabilidade de  ('S', 'F', 'S', 'S', 'F', 'S', 'S')  eh igual a  0.00193\n",
      "Probabilidade de  ('S', 'F', 'S', 'S', 'F', 'S', 'F')  eh igual a  0.00010\n",
      "Probabilidade de  ('S', 'F', 'S', 'S', 'F', 'F', 'S')  eh igual a  0.00010\n",
      "Probabilidade de  ('S', 'F', 'S', 'S', 'F', 'F', 'F')  eh igual a  0.00001\n",
      "Probabilidade de  ('S', 'F', 'S', 'F', 'S', 'S', 'S')  eh igual a  0.00193\n",
      "Probabilidade de  ('S', 'F', 'S', 'F', 'S', 'S', 'F')  eh igual a  0.00010\n",
      "Probabilidade de  ('S', 'F', 'S', 'F', 'S', 'F', 'S')  eh igual a  0.00010\n",
      "Probabilidade de  ('S', 'F', 'S', 'F', 'S', 'F', 'F')  eh igual a  0.00001\n",
      "Probabilidade de  ('S', 'F', 'S', 'F', 'F', 'S', 'S')  eh igual a  0.00010\n",
      "Probabilidade de  ('S', 'F', 'S', 'F', 'F', 'S', 'F')  eh igual a  0.00001\n",
      "Probabilidade de  ('S', 'F', 'S', 'F', 'F', 'F', 'S')  eh igual a  0.00001\n",
      "Probabilidade de  ('S', 'F', 'S', 'F', 'F', 'F', 'F')  eh igual a  0.00000\n",
      "Probabilidade de  ('S', 'F', 'F', 'S', 'S', 'S', 'S')  eh igual a  0.00193\n",
      "Probabilidade de  ('S', 'F', 'F', 'S', 'S', 'S', 'F')  eh igual a  0.00010\n",
      "Probabilidade de  ('S', 'F', 'F', 'S', 'S', 'F', 'S')  eh igual a  0.00010\n",
      "Probabilidade de  ('S', 'F', 'F', 'S', 'S', 'F', 'F')  eh igual a  0.00001\n",
      "Probabilidade de  ('S', 'F', 'F', 'S', 'F', 'S', 'S')  eh igual a  0.00010\n",
      "Probabilidade de  ('S', 'F', 'F', 'S', 'F', 'S', 'F')  eh igual a  0.00001\n",
      "Probabilidade de  ('S', 'F', 'F', 'S', 'F', 'F', 'S')  eh igual a  0.00001\n",
      "Probabilidade de  ('S', 'F', 'F', 'S', 'F', 'F', 'F')  eh igual a  0.00000\n",
      "Probabilidade de  ('S', 'F', 'F', 'F', 'S', 'S', 'S')  eh igual a  0.00010\n",
      "Probabilidade de  ('S', 'F', 'F', 'F', 'S', 'S', 'F')  eh igual a  0.00001\n",
      "Probabilidade de  ('S', 'F', 'F', 'F', 'S', 'F', 'S')  eh igual a  0.00001\n",
      "Probabilidade de  ('S', 'F', 'F', 'F', 'S', 'F', 'F')  eh igual a  0.00000\n",
      "Probabilidade de  ('S', 'F', 'F', 'F', 'F', 'S', 'S')  eh igual a  0.00001\n",
      "Probabilidade de  ('S', 'F', 'F', 'F', 'F', 'S', 'F')  eh igual a  0.00000\n",
      "Probabilidade de  ('S', 'F', 'F', 'F', 'F', 'F', 'S')  eh igual a  0.00000\n",
      "Probabilidade de  ('S', 'F', 'F', 'F', 'F', 'F', 'F')  eh igual a  0.00000\n",
      "Probabilidade de  ('F', 'S', 'S', 'S', 'S', 'S', 'S')  eh igual a  0.03675\n",
      "Probabilidade de  ('F', 'S', 'S', 'S', 'S', 'S', 'F')  eh igual a  0.00193\n",
      "Probabilidade de  ('F', 'S', 'S', 'S', 'S', 'F', 'S')  eh igual a  0.00193\n",
      "Probabilidade de  ('F', 'S', 'S', 'S', 'S', 'F', 'F')  eh igual a  0.00010\n",
      "Probabilidade de  ('F', 'S', 'S', 'S', 'F', 'S', 'S')  eh igual a  0.00193\n",
      "Probabilidade de  ('F', 'S', 'S', 'S', 'F', 'S', 'F')  eh igual a  0.00010\n",
      "Probabilidade de  ('F', 'S', 'S', 'S', 'F', 'F', 'S')  eh igual a  0.00010\n",
      "Probabilidade de  ('F', 'S', 'S', 'S', 'F', 'F', 'F')  eh igual a  0.00001\n",
      "Probabilidade de  ('F', 'S', 'S', 'F', 'S', 'S', 'S')  eh igual a  0.00193\n",
      "Probabilidade de  ('F', 'S', 'S', 'F', 'S', 'S', 'F')  eh igual a  0.00010\n",
      "Probabilidade de  ('F', 'S', 'S', 'F', 'S', 'F', 'S')  eh igual a  0.00010\n",
      "Probabilidade de  ('F', 'S', 'S', 'F', 'S', 'F', 'F')  eh igual a  0.00001\n",
      "Probabilidade de  ('F', 'S', 'S', 'F', 'F', 'S', 'S')  eh igual a  0.00010\n",
      "Probabilidade de  ('F', 'S', 'S', 'F', 'F', 'S', 'F')  eh igual a  0.00001\n",
      "Probabilidade de  ('F', 'S', 'S', 'F', 'F', 'F', 'S')  eh igual a  0.00001\n",
      "Probabilidade de  ('F', 'S', 'S', 'F', 'F', 'F', 'F')  eh igual a  0.00000\n",
      "Probabilidade de  ('F', 'S', 'F', 'S', 'S', 'S', 'S')  eh igual a  0.00193\n",
      "Probabilidade de  ('F', 'S', 'F', 'S', 'S', 'S', 'F')  eh igual a  0.00010\n",
      "Probabilidade de  ('F', 'S', 'F', 'S', 'S', 'F', 'S')  eh igual a  0.00010\n",
      "Probabilidade de  ('F', 'S', 'F', 'S', 'S', 'F', 'F')  eh igual a  0.00001\n",
      "Probabilidade de  ('F', 'S', 'F', 'S', 'F', 'S', 'S')  eh igual a  0.00010\n",
      "Probabilidade de  ('F', 'S', 'F', 'S', 'F', 'S', 'F')  eh igual a  0.00001\n",
      "Probabilidade de  ('F', 'S', 'F', 'S', 'F', 'F', 'S')  eh igual a  0.00001\n",
      "Probabilidade de  ('F', 'S', 'F', 'S', 'F', 'F', 'F')  eh igual a  0.00000\n",
      "Probabilidade de  ('F', 'S', 'F', 'F', 'S', 'S', 'S')  eh igual a  0.00010\n",
      "Probabilidade de  ('F', 'S', 'F', 'F', 'S', 'S', 'F')  eh igual a  0.00001\n",
      "Probabilidade de  ('F', 'S', 'F', 'F', 'S', 'F', 'S')  eh igual a  0.00001\n",
      "Probabilidade de  ('F', 'S', 'F', 'F', 'S', 'F', 'F')  eh igual a  0.00000\n",
      "Probabilidade de  ('F', 'S', 'F', 'F', 'F', 'S', 'S')  eh igual a  0.00001\n",
      "Probabilidade de  ('F', 'S', 'F', 'F', 'F', 'S', 'F')  eh igual a  0.00000\n",
      "Probabilidade de  ('F', 'S', 'F', 'F', 'F', 'F', 'S')  eh igual a  0.00000\n",
      "Probabilidade de  ('F', 'S', 'F', 'F', 'F', 'F', 'F')  eh igual a  0.00000\n",
      "Probabilidade de  ('F', 'F', 'S', 'S', 'S', 'S', 'S')  eh igual a  0.00193\n",
      "Probabilidade de  ('F', 'F', 'S', 'S', 'S', 'S', 'F')  eh igual a  0.00010\n",
      "Probabilidade de  ('F', 'F', 'S', 'S', 'S', 'F', 'S')  eh igual a  0.00010\n",
      "Probabilidade de  ('F', 'F', 'S', 'S', 'S', 'F', 'F')  eh igual a  0.00001\n",
      "Probabilidade de  ('F', 'F', 'S', 'S', 'F', 'S', 'S')  eh igual a  0.00010\n",
      "Probabilidade de  ('F', 'F', 'S', 'S', 'F', 'S', 'F')  eh igual a  0.00001\n",
      "Probabilidade de  ('F', 'F', 'S', 'S', 'F', 'F', 'S')  eh igual a  0.00001\n",
      "Probabilidade de  ('F', 'F', 'S', 'S', 'F', 'F', 'F')  eh igual a  0.00000\n",
      "Probabilidade de  ('F', 'F', 'S', 'F', 'S', 'S', 'S')  eh igual a  0.00010\n",
      "Probabilidade de  ('F', 'F', 'S', 'F', 'S', 'S', 'F')  eh igual a  0.00001\n",
      "Probabilidade de  ('F', 'F', 'S', 'F', 'S', 'F', 'S')  eh igual a  0.00001\n",
      "Probabilidade de  ('F', 'F', 'S', 'F', 'S', 'F', 'F')  eh igual a  0.00000\n",
      "Probabilidade de  ('F', 'F', 'S', 'F', 'F', 'S', 'S')  eh igual a  0.00001\n",
      "Probabilidade de  ('F', 'F', 'S', 'F', 'F', 'S', 'F')  eh igual a  0.00000\n",
      "Probabilidade de  ('F', 'F', 'S', 'F', 'F', 'F', 'S')  eh igual a  0.00000\n",
      "Probabilidade de  ('F', 'F', 'S', 'F', 'F', 'F', 'F')  eh igual a  0.00000\n",
      "Probabilidade de  ('F', 'F', 'F', 'S', 'S', 'S', 'S')  eh igual a  0.00010\n",
      "Probabilidade de  ('F', 'F', 'F', 'S', 'S', 'S', 'F')  eh igual a  0.00001\n",
      "Probabilidade de  ('F', 'F', 'F', 'S', 'S', 'F', 'S')  eh igual a  0.00001\n",
      "Probabilidade de  ('F', 'F', 'F', 'S', 'S', 'F', 'F')  eh igual a  0.00000\n",
      "Probabilidade de  ('F', 'F', 'F', 'S', 'F', 'S', 'S')  eh igual a  0.00001\n",
      "Probabilidade de  ('F', 'F', 'F', 'S', 'F', 'S', 'F')  eh igual a  0.00000\n",
      "Probabilidade de  ('F', 'F', 'F', 'S', 'F', 'F', 'S')  eh igual a  0.00000\n",
      "Probabilidade de  ('F', 'F', 'F', 'S', 'F', 'F', 'F')  eh igual a  0.00000\n",
      "Probabilidade de  ('F', 'F', 'F', 'F', 'S', 'S', 'S')  eh igual a  0.00001\n",
      "Probabilidade de  ('F', 'F', 'F', 'F', 'S', 'S', 'F')  eh igual a  0.00000\n",
      "Probabilidade de  ('F', 'F', 'F', 'F', 'S', 'F', 'S')  eh igual a  0.00000\n",
      "Probabilidade de  ('F', 'F', 'F', 'F', 'S', 'F', 'F')  eh igual a  0.00000\n",
      "Probabilidade de  ('F', 'F', 'F', 'F', 'F', 'S', 'S')  eh igual a  0.00000\n",
      "Probabilidade de  ('F', 'F', 'F', 'F', 'F', 'S', 'F')  eh igual a  0.00000\n",
      "Probabilidade de  ('F', 'F', 'F', 'F', 'F', 'F', 'S')  eh igual a  0.00000\n",
      "Probabilidade de  ('F', 'F', 'F', 'F', 'F', 'F', 'F')  eh igual a  0.00000\n"
     ]
    }
   ],
   "source": [
    "#probabilidade de cada espaco amostral acontecer\n",
    "#probabilidade de cada linha do diagrama de arvore\n",
    "prob_linhas = []\n",
    "\n",
    "for res in espacoamostral:\n",
    "    p = 1\n",
    "    for i in res:\n",
    "        p*=prob[i]\n",
    "    prob_linhas.append(p)\n",
    "    print(\"Probabilidade de \",res,\" eh igual a \", \"%3.5f\"%p)"
   ]
  },
  {
   "cell_type": "markdown",
   "metadata": {},
   "source": [
    "B)"
   ]
  },
  {
   "cell_type": "code",
   "execution_count": 22,
   "metadata": {},
   "outputs": [
    {
     "name": "stdout",
     "output_type": "stream",
     "text": [
      "Distribuição de probabilidades da variável aleatória $X$ - falhas\n",
      "\n",
      "Falha:  0  Probabilidade 0.69834 \n",
      "Falha:  1  Probabilidade 0.25728 \n",
      "Falha:  2  Probabilidade 0.04062 \n",
      "Falha:  3  Probabilidade 0.00356 \n",
      "Falha:  4  Probabilidade 0.00019 \n",
      "Falha:  5  Probabilidade 0.00001 \n",
      "Falha:  6  Probabilidade 0.00000 \n",
      "Falha:  7  Probabilidade 0.00000 \n"
     ]
    }
   ],
   "source": [
    "valores_Y = {}\n",
    "\n",
    "for i in range(len(espacoamostral)):\n",
    "    y = espacoamostral[i].count('F')\n",
    "    \n",
    "    if y in valores_Y:\n",
    "        valores_Y[y] += prob_linhas[i]\n",
    "    else:\n",
    "        valores_Y[y] = prob_linhas[i]\n",
    "    \n",
    "print(\"Distribuição de probabilidades da variável aleatória $X$ - falhas\")\n",
    "print('')\n",
    "for y in valores_Y:\n",
    "    print(\"Falha: \", y, \" Probabilidade\", \"%6.5f \"%valores_Y[y])"
   ]
  },
  {
   "cell_type": "markdown",
   "metadata": {},
   "source": [
    "C)"
   ]
  },
  {
   "cell_type": "code",
   "execution_count": 23,
   "metadata": {},
   "outputs": [
    {
     "name": "stdout",
     "output_type": "stream",
     "text": [
      "A media de Y  eh: 0.35001000000000004\n",
      "O Desvio Padrao de Y  eh: 0.37756323920636126\n"
     ]
    }
   ],
   "source": [
    "#media de Y eh Esperanca\n",
    "\n",
    "MediaY = (0*0.69834)+(1*0.25728 )+(2*0.04062)+(3*0.00356 )+(4*0.00019)+(5*0.00001)+(6*0)+(7*0)\n",
    "\n",
    "print('A media de Y  eh: {0}'.format(MediaY))\n",
    "\n",
    "#desvio padrao de Y\n",
    "\n",
    "VarY = 0.85737*((0-0.15002)**(2)) + 0.13537 *((1-0.15002)**(2)) + 0.00713 *((2-0.15002)**(2)) + 0.00013 *((3-0.15002)**(2))\n",
    "\n",
    "DPY = VarY**(1/2)\n",
    "\n",
    "print('O Desvio Padrao de Y  eh: {0}'.format(DPY))"
   ]
  },
  {
   "cell_type": "markdown",
   "metadata": {},
   "source": [
    "D)"
   ]
  },
  {
   "cell_type": "code",
   "execution_count": 26,
   "metadata": {},
   "outputs": [
    {
     "name": "stdout",
     "output_type": "stream",
     "text": [
      "A probabilidade é:\n",
      "0.698337296094\n",
      "A probabilidade é:\n",
      "0.257282161719\n",
      "A probabilidade é:\n",
      "0.0406234992188\n",
      "A probabilidade é:\n",
      "0.00356346484375\n",
      "A probabilidade é:\n",
      "0.00018755078125\n",
      "A probabilidade é:\n",
      "5.92265625e-06\n",
      "A probabilidade é:\n",
      "1.0390625e-07\n"
     ]
    }
   ],
   "source": [
    "#probabilidade usando binomial\n",
    "n=7\n",
    "\n",
    "p=0.05\n",
    "\n",
    "# prob para 0,1,2,3,4,5,6 e 7 resistores com falha\n",
    "for i in range(7):\n",
    "    print('A probabilidade é:')\n",
    "    print(stats.binom.pmf(i, n, p))"
   ]
  },
  {
   "cell_type": "code",
   "execution_count": 27,
   "metadata": {},
   "outputs": [
    {
     "name": "stdout",
     "output_type": "stream",
     "text": [
      "(array(0.35000000000000003), array(0.3325))\n"
     ]
    }
   ],
   "source": [
    "#var e esperança usando binomial\n",
    "#E(Y)E(Y)  e  Var(Y)Var(Y):\n",
    "print(stats.binom.stats(n, p, moments='mv'))"
   ]
  },
  {
   "cell_type": "markdown",
   "metadata": {},
   "source": [
    "Quando n não for um número pequeno, pode ser feito binomial para descobrir os valores"
   ]
  },
  {
   "cell_type": "markdown",
   "metadata": {},
   "source": [
    "3)A)"
   ]
  },
  {
   "cell_type": "code",
   "execution_count": 28,
   "metadata": {},
   "outputs": [
    {
     "name": "stdout",
     "output_type": "stream",
     "text": [
      "A probabilidade é:\n",
      "0.00592052922033\n",
      "A probabilidade é:\n",
      "0.031160680107\n",
      "A probabilidade é:\n",
      "0.0811817718578\n",
      "A probabilidade é:\n",
      "0.139575677931\n",
      "A probabilidade é:\n",
      "0.17814264157\n",
      "A probabilidade é:\n",
      "0.18001782727\n",
      "A probabilidade é:\n",
      "0.150014856059\n",
      "A probabilidade é:\n",
      "0.106025537365\n",
      "A probabilidade é:\n",
      "0.0648708879929\n",
      "A probabilidade é:\n",
      "0.034901296464\n",
      "A probabilidade é:\n",
      "0.0167158840959\n",
      "A probabilidade é:\n",
      "0.00719822760112\n",
      "A probabilidade é:\n",
      "0.00280983445833\n",
      "A probabilidade é:\n",
      "0.00100107462483\n",
      "A probabilidade é:\n",
      "0.000327419144212\n",
      "A probabilidade é:\n",
      "9.88001628147e-05\n",
      "A probabilidade é:\n",
      "2.76250455238e-05\n",
      "A probabilidade é:\n",
      "7.18422236534e-06\n",
      "A probabilidade é:\n",
      "1.74353934597e-06\n",
      "A probabilidade é:\n",
      "3.96039408227e-07\n",
      "A probabilidade é:\n",
      "8.44189264904e-08\n",
      "A probabilidade é:\n",
      "1.69261005495e-08\n",
      "A probabilidade é:\n",
      "3.19895201772e-09\n",
      "A probabilidade é:\n",
      "5.70979994009e-10\n",
      "A probabilidade é:\n",
      "9.64154814446e-11\n",
      "A probabilidade é:\n",
      "1.54264770311e-11\n",
      "A probabilidade é:\n",
      "2.34207647234e-12\n",
      "A probabilidade é:\n",
      "3.37843389772e-13\n",
      "A probabilidade é:\n",
      "4.63582094988e-14\n",
      "A probabilidade é:\n",
      "6.05769706699e-15\n",
      "A probabilidade é:\n",
      "7.54555248695e-16\n",
      "A probabilidade é:\n",
      "8.96754964494e-17\n",
      "A probabilidade é:\n",
      "1.01769889063e-17\n",
      "A probabilidade é:\n",
      "1.10372447468e-18\n",
      "A probabilidade é:\n",
      "1.14472971832e-19\n",
      "A probabilidade é:\n",
      "1.13612272796e-20\n",
      "A probabilidade é:\n",
      "1.07964879119e-21\n",
      "A probabilidade é:\n",
      "9.82895058836e-23\n",
      "A probabilidade é:\n",
      "8.57650813112e-24\n",
      "A probabilidade é:\n",
      "7.17602569675e-25\n",
      "A probabilidade é:\n",
      "5.75970483555e-26\n",
      "A probabilidade é:\n",
      "4.43622965511e-27\n",
      "A probabilidade é:\n",
      "3.27991916857e-28\n",
      "A probabilidade é:\n",
      "2.32846158846e-29\n",
      "A probabilidade é:\n",
      "1.58758744667e-30\n",
      "A probabilidade é:\n",
      "1.03982335689e-31\n",
      "A probabilidade é:\n",
      "6.54351082709e-33\n",
      "A probabilidade é:\n",
      "3.95688224706e-34\n",
      "A probabilidade é:\n",
      "2.29950393744e-35\n",
      "A probabilidade é:\n",
      "1.28436310147e-36\n",
      "A probabilidade é:\n",
      "6.89500191315e-38\n",
      "A probabilidade é:\n",
      "3.55779252484e-39\n",
      "A probabilidade é:\n",
      "1.7644922441e-40\n",
      "A probabilidade é:\n",
      "8.410687956e-42\n",
      "A probabilidade é:\n",
      "3.8528492586e-43\n",
      "A probabilidade é:\n",
      "1.6959910612e-44\n",
      "A probabilidade é:\n",
      "7.17289452575e-46\n",
      "A probabilidade é:\n",
      "2.91419537519e-47\n",
      "A probabilidade é:\n",
      "1.13711797762e-48\n",
      "A probabilidade é:\n",
      "4.26038849776e-50\n",
      "A probabilidade é:\n",
      "1.53224498604e-51\n",
      "A probabilidade é:\n",
      "5.2881621606e-53\n",
      "A probabilidade é:\n",
      "1.75074978152e-54\n",
      "A probabilidade é:\n",
      "5.55793581436e-56\n",
      "A probabilidade é:\n",
      "1.69114823299e-57\n",
      "A probabilidade é:\n",
      "4.92966286539e-59\n",
      "A probabilidade é:\n",
      "1.37590271363e-60\n",
      "A probabilidade é:\n",
      "3.67483835533e-62\n",
      "A probabilidade é:\n",
      "9.3861970376e-64\n",
      "A probabilidade é:\n",
      "2.29106258736e-65\n",
      "A probabilidade é:\n",
      "5.34007069235e-67\n",
      "A probabilidade é:\n",
      "1.18756205167e-68\n",
      "A probabilidade é:\n",
      "2.5174926534e-70\n",
      "A probabilidade é:\n",
      "5.0821769499e-72\n",
      "A probabilidade é:\n",
      "9.75951476865e-74\n",
      "A probabilidade é:\n",
      "1.78068339639e-75\n",
      "A probabilidade é:\n",
      "3.08290061701e-77\n",
      "A probabilidade é:\n",
      "5.05738993905e-79\n",
      "A probabilidade é:\n",
      "7.8488507826e-81\n",
      "A probabilidade é:\n",
      "1.15039784955e-82\n",
      "A probabilidade é:\n",
      "1.58936545003e-84\n",
      "A probabilidade é:\n",
      "2.06545217678e-86\n",
      "A probabilidade é:\n",
      "2.51884411803e-88\n",
      "A probabilidade é:\n",
      "2.87502816262e-90\n",
      "A probabilidade é:\n",
      "3.06237335617e-92\n",
      "A probabilidade é:\n",
      "3.03393025998e-94\n",
      "A probabilidade é:\n",
      "2.78512569766e-96\n",
      "A probabilidade é:\n",
      "2.35884814079e-98\n",
      "A probabilidade é:\n",
      "1.83403264535e-100\n",
      "A probabilidade é:\n",
      "1.30150158156e-102\n",
      "A probabilidade é:\n",
      "8.37223239601e-105\n",
      "A probabilidade é:\n",
      "4.8422396738e-107\n",
      "A probabilidade é:\n",
      "2.49314399681e-109\n",
      "A probabilidade é:\n",
      "1.12875789329e-111\n",
      "A probabilidade é:\n",
      "4.42402309801e-114\n",
      "A probabilidade é:\n",
      "1.47058939546e-116\n",
      "A probabilidade é:\n",
      "4.03122093054e-119\n",
      "A probabilidade é:\n",
      "8.74925866639e-122\n",
      "A probabilidade é:\n",
      "1.40965499458e-124\n",
      "A probabilidade é:\n",
      "1.49883571992e-127\n"
     ]
    }
   ],
   "source": [
    "#probabilidade usando binomial\n",
    "n=100\n",
    "\n",
    "p=0.05\n",
    " # prob de 0 a 100 resistores com falhas\n",
    "for i in range(100):\n",
    "    print('A probabilidade é:')\n",
    "    print(stats.binom.pmf(i, n, p))"
   ]
  },
  {
   "cell_type": "code",
   "execution_count": 29,
   "metadata": {},
   "outputs": [
    {
     "name": "stdout",
     "output_type": "stream",
     "text": [
      "(array(5.0), array(4.75))\n"
     ]
    }
   ],
   "source": [
    "#esperança e variancia usando binomial\n",
    "#E(Y)E(Y)  e  Var(Y)Var(Y):\n",
    "print(stats.binom.stats(n, p, moments='mv'))"
   ]
  },
  {
   "cell_type": "markdown",
   "metadata": {},
   "source": [
    "B)"
   ]
  },
  {
   "cell_type": "code",
   "execution_count": 32,
   "metadata": {
    "scrolled": true
   },
   "outputs": [
    {
     "name": "stdout",
     "output_type": "stream",
     "text": [
      "A probabilidade de em um pacote com 100, ao menos 50 estarem com falhas é: 1.1102230246251565e-16\n"
     ]
    }
   ],
   "source": [
    "#De 100, metade, 50, estar com falha\n",
    "n = 100\n",
    "\n",
    "#prob de falha:\n",
    "p = 0.05\n",
    "\n",
    "y = 49\n",
    "\n",
    "#P(Y>=50)= 1-P(Y<50), no caso, se usa 49, para incluir 50 na condicao:\n",
    "\n",
    "print('A probabilidade de em um pacote com 100, ao menos 50 estarem com falhas é: {0}'.format(1-stats.binom.cdf(y, n, p)))"
   ]
  },
  {
   "cell_type": "markdown",
   "metadata": {
    "collapsed": true
   },
   "source": [
    "___\n",
    "## <font color='blue'>Exercício 2</font>\n",
    "\n",
    "Esse exercício irá explorar modelos de distribuição de Poisson.\n",
    "\n",
    "Uma fábrica produz determinado veículo. O gerente de vendas fechou um negócio que implica na produção de pelo menos 110 unidades nos próximos dois meses. Para isso, será construída uma nova linha de montagem com capacidade para produzir em média 50 veículos por mês (considere meses de 30 dias). A linha funcionará ininterruptamente. Além disso, apenas um veículo é produzido por vez. Considere que um modelo Poisson seja adequado para a quantidade de veículos produzidos.\n",
    "   1. Qual a probabilidade  da produção ser igual a 100 veículos nos próximos dois meses?\n",
    "   2. Qual a probabilidade  da produção ser de pelo menos 100 veículos nos próximos dois meses?\n",
    "   3. Qual a probabilidade da produção ser entre 100 e 110 veículos nos próximos dois meses?\n",
    "   4. Se forem produzidos de pelo menos 100 veículos no próximo mês, qual a probabilidade do gerente cumprir a meta negociada?\n",
    "   5. Caso o prazo seja cumprido, o lucro será da ordem de $250$ mil, caso não seja, o lucro cai para $200$ mil. Qual é o lucro esperado e seu desvio-padrão?\n",
    "\n",
    "**Observação:** Explore os comandos de `stats.poisson`. <sup>[http://docs.scipy.org/doc/scipy/reference/generated/scipy.stats.poisson.html]\n"
   ]
  },
  {
   "cell_type": "code",
   "execution_count": null,
   "metadata": {
    "collapsed": true
   },
   "outputs": [],
   "source": []
  }
 ],
 "metadata": {
  "anaconda-cloud": {},
  "kernelspec": {
   "display_name": "Python 3",
   "language": "python",
   "name": "python3"
  },
  "language_info": {
   "codemirror_mode": {
    "name": "ipython",
    "version": 3
   },
   "file_extension": ".py",
   "mimetype": "text/x-python",
   "name": "python",
   "nbconvert_exporter": "python",
   "pygments_lexer": "ipython3",
   "version": "3.6.1"
  }
 },
 "nbformat": 4,
 "nbformat_minor": 1
}
